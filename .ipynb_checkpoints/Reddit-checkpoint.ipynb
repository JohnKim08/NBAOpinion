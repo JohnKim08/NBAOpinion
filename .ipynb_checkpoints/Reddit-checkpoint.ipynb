{
 "cells": [
  {
   "cell_type": "code",
   "execution_count": null,
   "metadata": {
    "colab": {
     "base_uri": "https://localhost:8080/",
     "height": 255
    },
    "colab_type": "code",
    "executionInfo": {
     "elapsed": 4208,
     "status": "ok",
     "timestamp": 1593213573985,
     "user": {
      "displayName": "John Kim",
      "photoUrl": "https://lh3.googleusercontent.com/a-/AOh14GgxOCEBD23VuSFLMMuf4NNS2F1j3r1BtSQSefKF=s64",
      "userId": "03400518117163506486"
     },
     "user_tz": 240
    },
    "id": "gG640OT4yBrm",
    "outputId": "36314748-d531-4ea1-c408-4a1ac87da1a9"
   },
   "outputs": [],
   "source": [
    "pip install praw nest_asyncio\n"
   ]
  },
  {
   "cell_type": "code",
   "execution_count": null,
   "metadata": {
    "colab": {},
    "colab_type": "code",
    "id": "7RTXf-3eyTIY"
   },
   "outputs": [],
   "source": [
    "#! python3\n",
    "\n",
    "#Funniest Comments \n",
    "import praw\n",
    "import pandas as pd\n",
    "import datetime as dt\n",
    "from praw.models import MoreComments\n",
    "from textblob import TextBlob\n",
    "import re \n",
    "import nest_asyncio \n",
    "import numpy as np \n",
    "\n",
    "import requests \n",
    "import json \n",
    "import time \n",
    "import datetime \n",
    "import csv\n",
    "\n",
    "\n",
    "\n",
    "ball = praw.Reddit(client_id='XABa6FL8_FKn2A', \\\n",
    "                     client_secret='6eqQMtSWufgR26l4hHPqjQzmveo', \\\n",
    "                     user_agent='NBAOpinion', \\\n",
    "                     username='badrice-09', \\\n",
    "                     password='Jk315097!')\n",
    "\n",
    "Thread = ball.subreddit('lakers')\n",
    "\n",
    "#Trying to get this to work\n",
    "#gamethread = Thread."
   ]
  },
  {
   "cell_type": "code",
   "execution_count": null,
   "metadata": {},
   "outputs": [],
   "source": [
    "def getPushshiftData(query, after, before, sub):\n",
    "    url = 'https://api.pushshift.io/reddit/search/submission/?title='+str(query)+'&size=1000&after='+str(after)+'&before='+str(before)+'&subreddit='+str(sub)\n",
    "    print(url)\n",
    "    r = requests.get(url)\n",
    "    data = json.loads(r.text)\n",
    "    return data['data']"
   ]
  },
  {
   "cell_type": "code",
   "execution_count": null,
   "metadata": {},
   "outputs": [],
   "source": [
    "def collectSubData(subm):\n",
    "    subData = list() #list to store data points\n",
    "    title = subm['title']\n",
    "    url = subm['url']\n",
    "    try:\n",
    "        flair = subm['link_flair_text']\n",
    "    except KeyError:\n",
    "        flair = \"NaN\"    \n",
    "    author = subm['author']\n",
    "    sub_id = subm['id']\n",
    "    score = subm['score']\n",
    "    created = datetime.datetime.fromtimestamp(subm['created_utc']) #1520561700.0\n",
    "    numComms = subm['num_comments']\n",
    "    permalink = subm['permalink']\n",
    "    subData.append((sub_id,title,url,author,score,created,numComms,permalink,flair))\n",
    "    subStats[sub_id] = subData"
   ]
  },
  {
   "cell_type": "code",
   "execution_count": null,
   "metadata": {},
   "outputs": [],
   "source": [
    "sub = \"lakers\"\n",
    "before = \"1538352000\"\n",
    "after = \"1514764800\"\n",
    "query = \"[Post Game Thread]\"\n",
    "subCount = 0\n",
    "subStats = {}\n",
    "data = getPushshiftData(query, after, before, sub)\n",
    "# Will run until all posts have been gathered \n",
    "# from the 'after' date up until before date\n",
    "while len(data) > 0:\n",
    "    for submission in data:\n",
    "        collectSubData(submission)\n",
    "        subCount+=1\n",
    "    # Calls getPushshiftData() with the created date of the last submission\n",
    "    print(len(data))\n",
    "    print(str(datetime.datetime.fromtimestamp(data[-1]['created_utc'])))\n",
    "    after = data[-1]['created_utc']\n",
    "    data = getPushshiftData(query, after, before, sub)\n",
    "print(len(data))"
   ]
  },
  {
   "cell_type": "code",
   "execution_count": null,
   "metadata": {},
   "outputs": [],
   "source": [
    "print(str(len(subStats)) + \" submissions have added to list\")\n",
    "print(\"1st entry is:\")\n",
    "print(list(subStats.values())[0][0][1] + \" created: \" + str(list(subStats.values())[0][0][5]))\n",
    "print(\"Last entry is:\")\n",
    "print(list(subStats.values())[-1][0][1] + \" created: \" + str(list(subStats.values())[-1][0][5]))"
   ]
  },
  {
   "cell_type": "code",
   "execution_count": null,
   "metadata": {},
   "outputs": [],
   "source": [
    "def updateSubs_file():\n",
    "    upload_count = 0\n",
    "    filename = \"NBA.csv\"\n",
    "    file = filename\n",
    "    with open(file, 'w', newline='', encoding='utf-8') as file: \n",
    "        a = csv.writer(file, delimiter=',')\n",
    "        headers = [\"Post ID\",\"Title\",\"Url\",\"Author\",\"Score\",\"Publish Date\",\"Total No. of Comments\",\"Permalink\",\"Flair\"]\n",
    "        a.writerow(headers)\n",
    "        for sub in subStats:\n",
    "            a.writerow(subStats[sub][0])\n",
    "            upload_count+=1\n",
    "        print(str(upload_count) + \" submissions have been uploaded\")\n",
    "        \n",
    "    with open(file) as file:\n",
    "        reader = csv.reader(file)\n",
    "        header = next(reader)\n",
    "        \n",
    "        # Extract post ids\n",
    "        ids = []\n",
    "        for row in reader:\n",
    "            id = row[0]\n",
    "            ids.append(row)\n",
    "    print(ids)\n",
    "updateSubs_file() \n",
    "\n",
    "\n",
    "\n"
   ]
  },
  {
   "cell_type": "code",
   "execution_count": null,
   "metadata": {},
   "outputs": [],
   "source": [
    "\n",
    "    "
   ]
  },
  {
   "cell_type": "code",
   "execution_count": null,
   "metadata": {
    "colab": {
     "base_uri": "https://localhost:8080/",
     "height": 54
    },
    "colab_type": "code",
    "executionInfo": {
     "elapsed": 5391,
     "status": "ok",
     "timestamp": 1593215758526,
     "user": {
      "displayName": "John Kim",
      "photoUrl": "https://lh3.googleusercontent.com/a-/AOh14GgxOCEBD23VuSFLMMuf4NNS2F1j3r1BtSQSefKF=s64",
      "userId": "03400518117163506486"
     },
     "user_tz": 240
    },
    "id": "oByEX4OA1S2y",
    "outputId": "a3ad049a-d9e3-4e17-b93e-eb5cc9b4f8ff"
   },
   "outputs": [],
   "source": [
    "list1 = [] \n",
    "submission = ball.submission(id=\"en1gi2\")\n",
    "for comment in submission.comments:\n",
    "  if isinstance(comment, MoreComments):\n",
    "    continue\n",
    "  list1.append(comment.body)\n",
    "\n",
    "print(list1)"
   ]
  },
  {
   "cell_type": "code",
   "execution_count": null,
   "metadata": {
    "colab": {
     "base_uri": "https://localhost:8080/",
     "height": 1000
    },
    "colab_type": "code",
    "executionInfo": {
     "elapsed": 1191,
     "status": "ok",
     "timestamp": 1593215764783,
     "user": {
      "displayName": "John Kim",
      "photoUrl": "https://lh3.googleusercontent.com/a-/AOh14GgxOCEBD23VuSFLMMuf4NNS2F1j3r1BtSQSefKF=s64",
      "userId": "03400518117163506486"
     },
     "user_tz": 240
    },
    "id": "LtWPHkY97tXM",
    "outputId": "10f64af1-ca67-44bd-c290-7bf3c8b69843"
   },
   "outputs": [],
   "source": [
    "def clean_reddit(post):\n",
    "  return ' '.join(re.sub(\"(@[A-Za-z0-9]+)|([^0-9A-Za-z \\t]) |(\\w+:\\/\\/\\S+)\", \" \", post).split())\n",
    "dataset = [clean_reddit(post) for post in list1]\n",
    "dataset"
   ]
  },
  {
   "cell_type": "code",
   "execution_count": null,
   "metadata": {
    "colab": {},
    "colab_type": "code",
    "id": "u6FirvG2IvcG"
   },
   "outputs": [],
   "source": [
    "def substring_search(comments, keyword):\n",
    "    \"\"\"Given list of comments, creates new list of comments that contain keyword\"\"\"\n",
    "    new_list = [i for i in comments if keyword in i]\n",
    "    return (new_list)"
   ]
  },
  {
   "cell_type": "code",
   "execution_count": null,
   "metadata": {
    "colab": {},
    "colab_type": "code",
    "id": "qWAWLqjD70ng"
   },
   "outputs": [],
   "source": [
    "def get_reddit_sentiment(post):\n",
    "  blob = TextBlob(post)\n",
    "  if blob.sentiment.polarity >0:\n",
    "    return 'positive'\n",
    "  if blob.sentiment.polarity == 0:\n",
    "    return 'neutral'\n",
    "  return 'negative'\n",
    "tweet_sentiments = [get_reddit_sentiment(post) for post in dataset]\n",
    "tweet_sentiments[:10]"
   ]
  },
  {
   "cell_type": "code",
   "execution_count": null,
   "metadata": {
    "colab": {},
    "colab_type": "code",
    "id": "bX8aynXc8Eps"
   },
   "outputs": [],
   "source": [
    "unique, counts = np.unique(tweet_sentiments,return_counts = True)\n",
    "print(dict(zip(unique,counts)))"
   ]
  },
  {
   "cell_type": "code",
   "execution_count": null,
   "metadata": {
    "colab": {},
    "colab_type": "code",
    "id": "TLjwlBhw8IZ2"
   },
   "outputs": [],
   "source": []
  }
 ],
 "metadata": {
  "colab": {
   "collapsed_sections": [],
   "name": "Reddit.ipynb",
   "provenance": []
  },
  "kernelspec": {
   "display_name": "Python 3",
   "language": "python",
   "name": "python3"
  },
  "language_info": {
   "codemirror_mode": {
    "name": "ipython",
    "version": 3
   },
   "file_extension": ".py",
   "mimetype": "text/x-python",
   "name": "python",
   "nbconvert_exporter": "python",
   "pygments_lexer": "ipython3",
   "version": "3.7.6"
  }
 },
 "nbformat": 4,
 "nbformat_minor": 1
}

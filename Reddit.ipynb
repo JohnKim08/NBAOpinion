{
 "cells": [
  {
   "cell_type": "code",
   "execution_count": 1,
   "metadata": {
    "colab": {
     "base_uri": "https://localhost:8080/",
     "height": 255
    },
    "colab_type": "code",
    "executionInfo": {
     "elapsed": 4208,
     "status": "ok",
     "timestamp": 1593213573985,
     "user": {
      "displayName": "John Kim",
      "photoUrl": "https://lh3.googleusercontent.com/a-/AOh14GgxOCEBD23VuSFLMMuf4NNS2F1j3r1BtSQSefKF=s64",
      "userId": "03400518117163506486"
     },
     "user_tz": 240
    },
    "id": "gG640OT4yBrm",
    "outputId": "36314748-d531-4ea1-c408-4a1ac87da1a9"
   },
   "outputs": [
    {
     "name": "stdout",
     "output_type": "stream",
     "text": [
      "Collecting praw\n",
      "  Downloading praw-7.1.0-py3-none-any.whl (152 kB)\n",
      "\u001b[K     |████████████████████████████████| 152 kB 469 kB/s eta 0:00:01\n",
      "\u001b[?25hCollecting nest_asyncio\n",
      "  Downloading nest_asyncio-1.3.3-py3-none-any.whl (4.7 kB)\n",
      "Collecting prawcore<2.0,>=1.3.0\n",
      "  Downloading prawcore-1.4.0-py3-none-any.whl (15 kB)\n",
      "Collecting update-checker>=0.17\n",
      "  Downloading update_checker-0.17-py2.py3-none-any.whl (7.0 kB)\n",
      "Collecting websocket-client>=0.54.0\n",
      "  Downloading websocket_client-0.57.0-py2.py3-none-any.whl (200 kB)\n",
      "\u001b[K     |████████████████████████████████| 200 kB 508 kB/s eta 0:00:01\n",
      "\u001b[?25hRequirement already satisfied: requests<3.0,>=2.6.0 in /Users/ahmedabukar/opt/anaconda3/lib/python3.7/site-packages (from prawcore<2.0,>=1.3.0->praw) (2.22.0)\n",
      "Requirement already satisfied: six in /Users/ahmedabukar/opt/anaconda3/lib/python3.7/site-packages (from websocket-client>=0.54.0->praw) (1.14.0)\n",
      "Requirement already satisfied: certifi>=2017.4.17 in /Users/ahmedabukar/opt/anaconda3/lib/python3.7/site-packages (from requests<3.0,>=2.6.0->prawcore<2.0,>=1.3.0->praw) (2019.11.28)\n",
      "Requirement already satisfied: idna<2.9,>=2.5 in /Users/ahmedabukar/opt/anaconda3/lib/python3.7/site-packages (from requests<3.0,>=2.6.0->prawcore<2.0,>=1.3.0->praw) (2.8)\n",
      "Requirement already satisfied: urllib3!=1.25.0,!=1.25.1,<1.26,>=1.21.1 in /Users/ahmedabukar/opt/anaconda3/lib/python3.7/site-packages (from requests<3.0,>=2.6.0->prawcore<2.0,>=1.3.0->praw) (1.25.8)\n",
      "Requirement already satisfied: chardet<3.1.0,>=3.0.2 in /Users/ahmedabukar/opt/anaconda3/lib/python3.7/site-packages (from requests<3.0,>=2.6.0->prawcore<2.0,>=1.3.0->praw) (3.0.4)\n",
      "Installing collected packages: prawcore, update-checker, websocket-client, praw, nest-asyncio\n",
      "Successfully installed nest-asyncio-1.3.3 praw-7.1.0 prawcore-1.4.0 update-checker-0.17 websocket-client-0.57.0\n",
      "Note: you may need to restart the kernel to use updated packages.\n"
     ]
    }
   ],
   "source": [
    "pip install praw nest_asyncio\n"
   ]
  },
  {
   "cell_type": "code",
   "execution_count": 2,
   "metadata": {
    "colab": {},
    "colab_type": "code",
    "id": "7RTXf-3eyTIY"
   },
   "outputs": [
    {
     "ename": "ModuleNotFoundError",
     "evalue": "No module named 'textblob'",
     "output_type": "error",
     "traceback": [
      "\u001b[0;31m---------------------------------------------------------------------------\u001b[0m",
      "\u001b[0;31mModuleNotFoundError\u001b[0m                       Traceback (most recent call last)",
      "\u001b[0;32m<ipython-input-2-9de0ca6858a9>\u001b[0m in \u001b[0;36m<module>\u001b[0;34m\u001b[0m\n\u001b[1;32m      6\u001b[0m \u001b[0;32mimport\u001b[0m \u001b[0mdatetime\u001b[0m \u001b[0;32mas\u001b[0m \u001b[0mdt\u001b[0m\u001b[0;34m\u001b[0m\u001b[0;34m\u001b[0m\u001b[0m\n\u001b[1;32m      7\u001b[0m \u001b[0;32mfrom\u001b[0m \u001b[0mpraw\u001b[0m\u001b[0;34m.\u001b[0m\u001b[0mmodels\u001b[0m \u001b[0;32mimport\u001b[0m \u001b[0mMoreComments\u001b[0m\u001b[0;34m\u001b[0m\u001b[0;34m\u001b[0m\u001b[0m\n\u001b[0;32m----> 8\u001b[0;31m \u001b[0;32mfrom\u001b[0m \u001b[0mtextblob\u001b[0m \u001b[0;32mimport\u001b[0m \u001b[0mTextBlob\u001b[0m\u001b[0;34m\u001b[0m\u001b[0;34m\u001b[0m\u001b[0m\n\u001b[0m\u001b[1;32m      9\u001b[0m \u001b[0;32mimport\u001b[0m \u001b[0mre\u001b[0m\u001b[0;34m\u001b[0m\u001b[0;34m\u001b[0m\u001b[0m\n\u001b[1;32m     10\u001b[0m \u001b[0;32mimport\u001b[0m \u001b[0mnest_asyncio\u001b[0m\u001b[0;34m\u001b[0m\u001b[0;34m\u001b[0m\u001b[0m\n",
      "\u001b[0;31mModuleNotFoundError\u001b[0m: No module named 'textblob'"
     ]
    }
   ],
   "source": [
    "#! python3\n",
    "\n",
    "#Funniest Comments \n",
    "import praw\n",
    "import pandas as pd\n",
    "import datetime as dt\n",
    "from praw.models import MoreComments\n",
    "from textblob import TextBlob\n",
    "import re \n",
    "import nest_asyncio \n",
    "import numpy as np \n",
    "\n",
    "\n",
    "ball = praw.Reddit(client_id='XABa6FL8_FKn2A', \\\n",
    "                     client_secret='6eqQMtSWufgR26l4hHPqjQzmveo', \\\n",
    "                     user_agent='NBAOpinion', \\\n",
    "                     username='badrice-09', \\\n",
    "                     password='Jk315097!')\n",
    "\n",
    "Thread = ball.subreddit('lakers')\n",
    "\n",
    "#Trying to get this to work\n",
    "#gamethread = Thread."
   ]
  },
  {
   "cell_type": "code",
   "execution_count": null,
   "metadata": {
    "colab": {
     "base_uri": "https://localhost:8080/",
     "height": 54
    },
    "colab_type": "code",
    "executionInfo": {
     "elapsed": 5391,
     "status": "ok",
     "timestamp": 1593215758526,
     "user": {
      "displayName": "John Kim",
      "photoUrl": "https://lh3.googleusercontent.com/a-/AOh14GgxOCEBD23VuSFLMMuf4NNS2F1j3r1BtSQSefKF=s64",
      "userId": "03400518117163506486"
     },
     "user_tz": 240
    },
    "id": "oByEX4OA1S2y",
    "outputId": "a3ad049a-d9e3-4e17-b93e-eb5cc9b4f8ff"
   },
   "outputs": [],
   "source": [
    "list1 = [] \n",
    "submission = ball.submission(id=\"en1gi2\")\n",
    "for comment in submission.comments:\n",
    "  if isinstance(comment, MoreComments):\n",
    "    continue\n",
    "  list1.append(comment.body)\n",
    "\n",
    "print(list1)"
   ]
  },
  {
   "cell_type": "code",
   "execution_count": null,
   "metadata": {
    "colab": {
     "base_uri": "https://localhost:8080/",
     "height": 1000
    },
    "colab_type": "code",
    "executionInfo": {
     "elapsed": 1191,
     "status": "ok",
     "timestamp": 1593215764783,
     "user": {
      "displayName": "John Kim",
      "photoUrl": "https://lh3.googleusercontent.com/a-/AOh14GgxOCEBD23VuSFLMMuf4NNS2F1j3r1BtSQSefKF=s64",
      "userId": "03400518117163506486"
     },
     "user_tz": 240
    },
    "id": "LtWPHkY97tXM",
    "outputId": "10f64af1-ca67-44bd-c290-7bf3c8b69843"
   },
   "outputs": [],
   "source": [
    "def clean_reddit(post):\n",
    "  return ' '.join(re.sub(\"(@[A-Za-z0-9]+)|([^0-9A-Za-z \\t]) |(\\w+:\\/\\/\\S+)\", \" \", post).split())\n",
    "dataset = [clean_reddit(post) for post in list1]\n",
    "dataset"
   ]
  },
  {
   "cell_type": "code",
   "execution_count": null,
   "metadata": {
    "colab": {},
    "colab_type": "code",
    "id": "u6FirvG2IvcG"
   },
   "outputs": [],
   "source": [
    "def substring_search(comments, keyword):\n",
    "    \"\"\"Given list of comments, creates new list of comments that contain keyword\"\"\"\n",
    "    new_list = [i for i in comments if keyword in i]\n",
    "    return (new_list)"
   ]
  },
  {
   "cell_type": "code",
   "execution_count": null,
   "metadata": {
    "colab": {},
    "colab_type": "code",
    "id": "qWAWLqjD70ng"
   },
   "outputs": [],
   "source": [
    "def get_reddit_sentiment(post):\n",
    "  blob = TextBlob(post)\n",
    "  if blob.sentiment.polarity >0:\n",
    "    return 'positive'\n",
    "  if blob.sentiment.polarity == 0:\n",
    "    return 'neutral'\n",
    "  return 'negative'\n",
    "tweet_sentiments = [get_reddit_sentiment(post) for post in dataset]\n",
    "tweet_sentiments[:10]"
   ]
  },
  {
   "cell_type": "code",
   "execution_count": null,
   "metadata": {
    "colab": {},
    "colab_type": "code",
    "id": "bX8aynXc8Eps"
   },
   "outputs": [],
   "source": [
    "unique, counts = np.unique(tweet_sentiments,return_counts = True)\n",
    "print(dict(zip(unique,counts)))"
   ]
  },
  {
   "cell_type": "code",
   "execution_count": null,
   "metadata": {
    "colab": {},
    "colab_type": "code",
    "id": "TLjwlBhw8IZ2"
   },
   "outputs": [],
   "source": []
  }
 ],
 "metadata": {
  "colab": {
   "collapsed_sections": [],
   "name": "Reddit.ipynb",
   "provenance": []
  },
  "kernelspec": {
   "display_name": "Python 3",
   "language": "python",
   "name": "python3"
  },
  "language_info": {
   "codemirror_mode": {
    "name": "ipython",
    "version": 3
   },
   "file_extension": ".py",
   "mimetype": "text/x-python",
   "name": "python",
   "nbconvert_exporter": "python",
   "pygments_lexer": "ipython3",
   "version": "3.7.6"
  }
 },
 "nbformat": 4,
 "nbformat_minor": 1
}
